{
 "cells": [
  {
   "cell_type": "markdown",
   "id": "a6ce0ce9",
   "metadata": {},
   "source": [
    "# LINEAR DATA STRUCTURES"
   ]
  },
  {
   "cell_type": "markdown",
   "id": "f0de0944",
   "metadata": {},
   "source": [
    "6. Read about infix, prefix, and postfix expressions. Write a program to convert postfix to prefix expression.\n",
    "\n"
   ]
  },
  {
   "cell_type": "markdown",
   "id": "0a95daeb",
   "metadata": {},
   "source": [
    "Postfix: An expression is called the postfix expression if the operator appears in the expression after the operands. Simply of the form (operand1 operand2 operator). \n",
    "Example : AB+CD-* (Infix : (A+B) * (C-D) )\n",
    "\n",
    "Prefix : An expression is called the prefix expression if the operator appears in the expression before the operands. Simply of the form (operator operand1 operand2). \n",
    "Example : *+AB-CD (Infix : (A+B) * (C-D) )"
   ]
  },
  {
   "cell_type": "markdown",
   "id": "a77beea6",
   "metadata": {},
   "source": [
    "**Algorithm for Postfix to Prefix:**\n",
    "\n",
    "- Read the Postfix expression from left to right\n",
    "- If the symbol is an operand, then push it onto the Stack\n",
    "- If the symbol is an operator, then pop two operands from the Stack<BR>\n",
    "  Create a string by concatenating the two operands and the operator before them. <BR>\n",
    "  string = operator + operand2 + operand1 <BR>\n",
    "  And push the resultant string back to Stack\n",
    "- Repeat the above steps until end of Postfix expression."
   ]
  },
  {
   "cell_type": "code",
   "execution_count": 7,
   "id": "31be754f",
   "metadata": {},
   "outputs": [
    {
     "name": "stdout",
     "output_type": "stream",
     "text": [
      "Prefix :  *+AB-CD\n"
     ]
    }
   ],
   "source": [
    "# Python3 Program to convert postfix to prefix\n",
    " \n",
    "# function to check if\n",
    "# character is operator or not\n",
    " \n",
    "def is_operator(x):\n",
    " \n",
    "    if x == \"+\":\n",
    "        return True\n",
    " \n",
    "    if x == \"-\":\n",
    "        return True\n",
    " \n",
    "    if x == \"/\":\n",
    "        return True\n",
    " \n",
    "    if x == \"*\":\n",
    "        return True\n",
    " \n",
    "    return False\n",
    " \n",
    "# let's define a function for postfix to Prefix expression\n",
    " \n",
    "def postfix_to_prefix(post_exp):\n",
    " \n",
    "    s = [] # creating an empty list\n",
    " \n",
    "    # length of expression\n",
    "    length = len(post_exp)\n",
    " \n",
    "    # reading from right to left\n",
    "    for i in range(length):\n",
    " \n",
    "        # check if symbol is operator\n",
    "        if (is_operator(post_exp[i])):\n",
    " \n",
    "            # pop two operands from stack\n",
    "            op1 = s[-1]\n",
    "            s.pop()\n",
    "            op2 = s[-1]\n",
    "            s.pop()\n",
    " \n",
    "            # concat the operands and operator\n",
    "            temp = post_exp[i] + op2 + op1\n",
    " \n",
    "            # Push string temp back to stack\n",
    "            s.append(temp)\n",
    " \n",
    "        # if symbol is an operand\n",
    "        else:\n",
    " \n",
    "            # push the operand to the stack\n",
    "            s.append(post_exp[i])\n",
    " \n",
    "    \n",
    "    ans = \"\"\n",
    "    for i in s:\n",
    "        ans += i\n",
    "    return ans\n",
    " \n",
    "# Drive code\n",
    "if __name__ == \"__main__\":\n",
    " \n",
    "    post_exp = \"AB+CD-*\"\n",
    "     \n",
    "    # Function call\n",
    "    print(\"Prefix : \", postfix_to_prefix(post_exp))"
   ]
  },
  {
   "cell_type": "code",
   "execution_count": null,
   "id": "7e75ae46",
   "metadata": {},
   "outputs": [],
   "source": []
  }
 ],
 "metadata": {
  "kernelspec": {
   "display_name": "Python 3 (ipykernel)",
   "language": "python",
   "name": "python3"
  },
  "language_info": {
   "codemirror_mode": {
    "name": "ipython",
    "version": 3
   },
   "file_extension": ".py",
   "mimetype": "text/x-python",
   "name": "python",
   "nbconvert_exporter": "python",
   "pygments_lexer": "ipython3",
   "version": "3.8.10"
  }
 },
 "nbformat": 4,
 "nbformat_minor": 5
}
