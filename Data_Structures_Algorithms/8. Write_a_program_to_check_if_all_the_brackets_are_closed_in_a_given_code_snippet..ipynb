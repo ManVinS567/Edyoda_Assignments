{
 "cells": [
  {
   "cell_type": "markdown",
   "id": "b7a4ae16",
   "metadata": {},
   "source": [
    "# LINEAR DATA STRUCTURES"
   ]
  },
  {
   "cell_type": "markdown",
   "id": "cde57868",
   "metadata": {},
   "source": [
    "## 8. Write_a_program_to_check_if_all_the_brackets_are_closed_in_a_given_code_snippet."
   ]
  },
  {
   "cell_type": "code",
   "execution_count": 3,
   "id": "ada9dc07",
   "metadata": {},
   "outputs": [
    {
     "name": "stdout",
     "output_type": "stream",
     "text": [
      "Enter the brackets: (((((((())))\n",
      "All brackets not closed\n"
     ]
    }
   ],
   "source": [
    "# program to check whether a code contains all the brackets closed\n",
    "# which means that the no. of opening brackets are equal to no. of closing brackets.\n",
    "\n",
    "def all_brackets_closed(exp):\n",
    "    \n",
    "    # Initialising variables\n",
    "    flag = True\n",
    "    count = 0 # to count the no. of brackets\n",
    "    \n",
    "    # Traversing through the expression\n",
    "    for i in range(len(exp)):\n",
    "        if exp[i] == '(':\n",
    "            count += 1\n",
    "        else:\n",
    "            # reduces the count for closing bracket\n",
    "            count -= 1\n",
    "            \n",
    "        if count < 0:\n",
    "            # if count if less than zero\n",
    "            # it means that there are more closing brackets without opening brackets\n",
    "            flag = False\n",
    "            break\n",
    "    \n",
    "    # if count if not equal to zero\n",
    "    # it means that there are more opening brackets than closing brackets\n",
    "    if count != 0:\n",
    "        flag = False\n",
    "    \n",
    "    return flag\n",
    "\n",
    "# Driver code\n",
    "\n",
    "if __name__ == '__main__':\n",
    "    \n",
    "    exp = input(\"Enter the brackets: \")\n",
    "    if all_brackets_closed(exp):\n",
    "        print(\"All brackets closed\")\n",
    "    else:\n",
    "        print(\"All brackets not closed\")\n",
    "        "
   ]
  },
  {
   "cell_type": "code",
   "execution_count": null,
   "id": "d9a1ab53",
   "metadata": {},
   "outputs": [],
   "source": []
  }
 ],
 "metadata": {
  "kernelspec": {
   "display_name": "Python 3 (ipykernel)",
   "language": "python",
   "name": "python3"
  },
  "language_info": {
   "codemirror_mode": {
    "name": "ipython",
    "version": 3
   },
   "file_extension": ".py",
   "mimetype": "text/x-python",
   "name": "python",
   "nbconvert_exporter": "python",
   "pygments_lexer": "ipython3",
   "version": "3.8.10"
  }
 },
 "nbformat": 4,
 "nbformat_minor": 5
}
