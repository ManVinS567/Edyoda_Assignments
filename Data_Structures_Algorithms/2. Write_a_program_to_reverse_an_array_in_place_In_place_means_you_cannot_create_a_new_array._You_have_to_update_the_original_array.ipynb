{
 "cells": [
  {
   "cell_type": "markdown",
   "id": "6c1062cc",
   "metadata": {},
   "source": [
    "# LINEAR DATA STRUCTURES"
   ]
  },
  {
   "cell_type": "markdown",
   "id": "b9f10780",
   "metadata": {},
   "source": [
    "## 2. Write a program to reverse an array in place? In place means you cannot create a new array. You have to update the original array."
   ]
  },
  {
   "cell_type": "code",
   "execution_count": 18,
   "id": "0b915cf9",
   "metadata": {},
   "outputs": [
    {
     "name": "stdout",
     "output_type": "stream",
     "text": [
      "The reverse of given array is [9, 8, 7, 6, 5, 4, 3, 2, 1]\n"
     ]
    }
   ],
   "source": [
    "# recursive method to reverse an array\n",
    "\n",
    "# let's write a function which takes the array as argument and reverses it\n",
    "\n",
    "def rev_array(arr, start,end):\n",
    "    if start >= end:\n",
    "        return \n",
    "    arr[start], arr[end] = arr[end], arr[start]\n",
    "    rev_array(arr, start+1,end-1)\n",
    "    \n",
    "# let's check the function and reverse the array\n",
    "if __name__ == \"__main__\":\n",
    "    arr = [1,2,3,4,5,6,7,8,9]\n",
    "    start = 0\n",
    "    end = len(arr)-1\n",
    "\n",
    "    rev_array(arr, start, end)\n",
    "\n",
    "    print(f\"The reverse of given array is {arr}\")\n"
   ]
  },
  {
   "cell_type": "code",
   "execution_count": null,
   "id": "106f8c65",
   "metadata": {},
   "outputs": [],
   "source": []
  }
 ],
 "metadata": {
  "kernelspec": {
   "display_name": "Python 3 (ipykernel)",
   "language": "python",
   "name": "python3"
  },
  "language_info": {
   "codemirror_mode": {
    "name": "ipython",
    "version": 3
   },
   "file_extension": ".py",
   "mimetype": "text/x-python",
   "name": "python",
   "nbconvert_exporter": "python",
   "pygments_lexer": "ipython3",
   "version": "3.8.10"
  }
 },
 "nbformat": 4,
 "nbformat_minor": 5
}
