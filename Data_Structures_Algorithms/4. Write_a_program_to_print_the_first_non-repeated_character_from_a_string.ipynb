{
 "cells": [
  {
   "cell_type": "markdown",
   "id": "ebc2b786",
   "metadata": {},
   "source": [
    "# LINEAR DATA STRUCTURES"
   ]
  },
  {
   "cell_type": "markdown",
   "id": "eb207208",
   "metadata": {},
   "source": [
    "## 4. Write a program to print the first non-repeated character from a string?"
   ]
  },
  {
   "cell_type": "code",
   "execution_count": 11,
   "id": "a6b1599b",
   "metadata": {},
   "outputs": [
    {
     "name": "stdout",
     "output_type": "stream",
     "text": [
      "the unique characters of string - 'advrcfetecdfgeecggedbge' is 'advrcfetgb''\n"
     ]
    }
   ],
   "source": [
    "# our function is to get the first non-repeated character from a given string\n",
    "# it means that string contains duplicate elements\n",
    "# we need to remove the duplicate elements and maintain the order of the string\n",
    "# to find out the first non-repeated character from string\n",
    "\n",
    "# set would remove the duplicate elements but the order will be changed\n",
    "# hence we cannot use set for this specific purpose\n",
    "\n",
    "# let's loop through each element in string and store the unique values in new string\n",
    "\n",
    "def remove_dup(str):\n",
    "    temp = \"\" # new empty string to store the unique elements in given string\n",
    "    for i in str:\n",
    "        if i in temp:\n",
    "            pass\n",
    "        else:\n",
    "            temp += i # if character not in temp, add the character 'i' to temp\n",
    "    return temp\n",
    "\n",
    "    for i in temp:\n",
    "        if i in \n",
    "            \n",
    "# let's check the function\n",
    "print(f\"the unique characters of string - '{str}' is '{remove_dup(str)}''\")\n",
    "\n",
    "def \n"
   ]
  },
  {
   "cell_type": "code",
   "execution_count": 68,
   "id": "346eb90c",
   "metadata": {},
   "outputs": [
    {
     "name": "stdout",
     "output_type": "stream",
     "text": [
      "Enter the string with duplicates: loplopk\n",
      "\n",
      "The first non-repeated character from a given string - 'loplopk' is \n"
     ]
    },
    {
     "data": {
      "text/plain": [
       "'k'"
      ]
     },
     "execution_count": 68,
     "metadata": {},
     "output_type": "execute_result"
    }
   ],
   "source": [
    "# now let's find out the first non-repeated character from a string:\n",
    "\n",
    "class First_non_repeating_string:\n",
    "    \n",
    "    def remove_dup(self, strg):\n",
    "        self.strg = strg\n",
    "        self.temp = \"\" # new empty string to store the unique elements in given string\n",
    "        for i in self.strg:\n",
    "            if i in self.temp:\n",
    "                pass\n",
    "            else:\n",
    "                self.temp += i # if character not in temp, add the character 'i' to temp\n",
    "        return self.temp\n",
    "\n",
    "    def first_non_rep_str(self):\n",
    "        # loop through unique elements\n",
    "        for i in self.temp:\n",
    "            # check whether the count of these unique elements in given string\n",
    "            # if count if more than 1 then there are duplicates, else it is unique\n",
    "            if self.strg.count(i) == 1:\n",
    "                return i\n",
    "                break\n",
    "\n",
    "\n",
    "            \n",
    "    def __init__(self):\n",
    "        strg = input(\"Enter the string with duplicates: \")\n",
    "        self.remove_dup(strg)\n",
    "        self.first_non_rep_str()\n",
    "\n",
    "    \n",
    "\n",
    "# instantiating a class object\n",
    "str = First_non_repeating_string()\n",
    "\n",
    "# calling a function from class object\n",
    "print(f\"\\nThe first non-repeated character from a given string - '{str.strg}' is \")\n",
    "str.first_non_rep_str()\n"
   ]
  },
  {
   "cell_type": "code",
   "execution_count": 65,
   "id": "f4fe96aa",
   "metadata": {},
   "outputs": [
    {
     "name": "stdout",
     "output_type": "stream",
     "text": [
      "Enter the string with duplicates: aabbccdde\n",
      "\n",
      "The first non-repeated character from a given string - 'aabbccdde' is \n"
     ]
    },
    {
     "data": {
      "text/plain": [
       "'e'"
      ]
     },
     "execution_count": 65,
     "metadata": {},
     "output_type": "execute_result"
    }
   ],
   "source": [
    "# instantiating a class object\n",
    "str = First_non_repeating_string()\n",
    "\n",
    "# calling a function from class object\n",
    "print(f\"\\nThe first non-repeated character from a given string - '{str.strg}' is \")\n",
    "str.first_non_rep_str()"
   ]
  },
  {
   "cell_type": "code",
   "execution_count": null,
   "id": "0728f90a",
   "metadata": {},
   "outputs": [],
   "source": []
  }
 ],
 "metadata": {
  "kernelspec": {
   "display_name": "Python 3 (ipykernel)",
   "language": "python",
   "name": "python3"
  },
  "language_info": {
   "codemirror_mode": {
    "name": "ipython",
    "version": 3
   },
   "file_extension": ".py",
   "mimetype": "text/x-python",
   "name": "python",
   "nbconvert_exporter": "python",
   "pygments_lexer": "ipython3",
   "version": "3.8.10"
  }
 },
 "nbformat": 4,
 "nbformat_minor": 5
}
