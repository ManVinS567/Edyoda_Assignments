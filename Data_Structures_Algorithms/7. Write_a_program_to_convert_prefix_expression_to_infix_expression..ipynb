{
 "cells": [
  {
   "cell_type": "markdown",
   "id": "6239720c",
   "metadata": {},
   "source": [
    "# LINEAR DATA STRUCTURES"
   ]
  },
  {
   "cell_type": "markdown",
   "id": "64af0586",
   "metadata": {},
   "source": [
    "## Q7. Write a program to convert prefix expression to infix expression."
   ]
  },
  {
   "cell_type": "markdown",
   "id": "b23bc4e7",
   "metadata": {},
   "source": [
    "**Algorithm for Prefix to Infix:**\n",
    "\n",
    "- Read the Prefix expression in reverse order (from right to left)\n",
    "- If the symbol is an operand, then push it onto the Stack\n",
    "- If the symbol is an operator, then pop two operands from the Stack \n",
    "- Create a string by concatenating the two operands and the operator between them. \n",
    "- string = (operand1 + operator + operand2) \n",
    "- And push the resultant string back to Stack\n",
    "- Repeat the above steps until the end of Prefix expression.\n",
    "- At the end stack will have only 1 string i.e resultant string"
   ]
  },
  {
   "cell_type": "code",
   "execution_count": 1,
   "id": "ac3783dc",
   "metadata": {},
   "outputs": [
    {
     "name": "stdout",
     "output_type": "stream",
     "text": [
      "((A-(B/C))*((A/K)-L))\n"
     ]
    }
   ],
   "source": [
    "# Python Program to convert prefix to Infix\n",
    "def prefix_to_infix(prefix):\n",
    "    stack = []\n",
    "     \n",
    "    # read prefix in reverse order\n",
    "    i = len(prefix) - 1\n",
    "    while i >= 0:\n",
    "        if not is_operator(prefix[i]):\n",
    "             \n",
    "            # symbol is operand\n",
    "            stack.append(prefix[i])\n",
    "            i -= 1\n",
    "        else:\n",
    "           \n",
    "            # symbol is operator\n",
    "            str = \"(\" + stack.pop() + prefix[i] + stack.pop() + \")\"\n",
    "            stack.append(str)\n",
    "            i -= 1\n",
    "     \n",
    "    return stack.pop()\n",
    " \n",
    "def is_operator(c):\n",
    "    if c == \"*\" or c == \"+\" or c == \"-\" or c == \"/\" or c == \"^\" or c == \"(\" or c == \")\":\n",
    "        return True\n",
    "    else:\n",
    "        return False\n",
    "\n",
    "# Driver code\n",
    "if __name__==\"__main__\":\n",
    "    str = \"*-A/BC-/AKL\"\n",
    "    print(prefix_to_infix(str))"
   ]
  },
  {
   "cell_type": "code",
   "execution_count": null,
   "id": "41315a77",
   "metadata": {},
   "outputs": [],
   "source": []
  }
 ],
 "metadata": {
  "kernelspec": {
   "display_name": "Python 3 (ipykernel)",
   "language": "python",
   "name": "python3"
  },
  "language_info": {
   "codemirror_mode": {
    "name": "ipython",
    "version": 3
   },
   "file_extension": ".py",
   "mimetype": "text/x-python",
   "name": "python",
   "nbconvert_exporter": "python",
   "pygments_lexer": "ipython3",
   "version": "3.8.10"
  }
 },
 "nbformat": 4,
 "nbformat_minor": 5
}
