{
 "cells": [
  {
   "cell_type": "markdown",
   "id": "b0817011",
   "metadata": {},
   "source": [
    "# LINEAR DATA STRUCTURES"
   ]
  },
  {
   "cell_type": "markdown",
   "id": "4f20d810",
   "metadata": {},
   "source": [
    "## Write a program to find all pairs of an integer array whose sum is equal to a given number?"
   ]
  },
  {
   "cell_type": "code",
   "execution_count": 17,
   "id": "60bd8540",
   "metadata": {},
   "outputs": [
    {
     "name": "stdout",
     "output_type": "stream",
     "text": [
      "Enter the number to get the sum of pairs equivalent to given number in array: 6\n",
      "(1, 5)\n",
      "(1, 5)\n",
      "(7, -1)\n",
      "(9, -3)\n",
      "(3, 3)\n"
     ]
    }
   ],
   "source": [
    "# write a function which takes the array, length of an array and sum of pairs as arguments to find the pairs \n",
    "# whose sum is equivalent to the pairs in array\n",
    "\n",
    "def sum_of_n_pairs(arr, n, sum):\n",
    "    \n",
    "    # arr is the given array\n",
    "    # n is length of given array\n",
    "    # sum is the sum of two elements in given array\n",
    "    \n",
    "    # let's loop through each element in array by its index\n",
    "    for i in range(0,n):\n",
    "        # let's loop through each element after the element at index 'i'\n",
    "        for j in range(i+1, n):\n",
    "            # checking whether the sum of elements at index 'i' and 'j' in array are equivalent to given number i.e., sum\n",
    "            if (arr[i] + arr[j] == sum):\n",
    "                print(f\"({arr[i]}, {arr[j]})\")\n",
    "                \n",
    "# Driver code\n",
    "if __name__ == \"__main__\":                \n",
    "    arr = [1,5,6,7,9,6,3,4,5,3,6,8,-1,-3,-5,-6,-9]\n",
    "    n = len(arr)\n",
    "    sum = int(input(\"Enter the number to get the sum of pairs equivalent to given number in array: \"))\n",
    "    sum_of_n_pairs(arr,n,sum)\n",
    "                "
   ]
  },
  {
   "cell_type": "code",
   "execution_count": null,
   "id": "dcd6a627",
   "metadata": {},
   "outputs": [],
   "source": []
  }
 ],
 "metadata": {
  "kernelspec": {
   "display_name": "Python 3 (ipykernel)",
   "language": "python",
   "name": "python3"
  },
  "language_info": {
   "codemirror_mode": {
    "name": "ipython",
    "version": 3
   },
   "file_extension": ".py",
   "mimetype": "text/x-python",
   "name": "python",
   "nbconvert_exporter": "python",
   "pygments_lexer": "ipython3",
   "version": "3.8.10"
  }
 },
 "nbformat": 4,
 "nbformat_minor": 5
}
