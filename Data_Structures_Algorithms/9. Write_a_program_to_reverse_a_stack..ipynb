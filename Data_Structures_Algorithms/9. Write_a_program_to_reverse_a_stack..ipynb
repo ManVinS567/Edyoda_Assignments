{
 "cells": [
  {
   "cell_type": "markdown",
   "id": "9916a97e",
   "metadata": {},
   "source": [
    "# LINEAR DATA STRUCTURES"
   ]
  },
  {
   "cell_type": "markdown",
   "id": "40fb5360",
   "metadata": {},
   "source": [
    "## 9. Write a program to reverse a stack."
   ]
  },
  {
   "cell_type": "code",
   "execution_count": 8,
   "id": "54860ef1",
   "metadata": {},
   "outputs": [
    {
     "name": "stdout",
     "output_type": "stream",
     "text": [
      "The original stack is \n",
      "5\n",
      "4\n",
      "3\n",
      "2\n",
      "1\n",
      "\n",
      " Stack after reversing\n",
      "1\n",
      "2\n",
      "3\n",
      "4\n",
      "5\n"
     ]
    }
   ],
   "source": [
    "# Stack follows the concept of LIFO (last In Fist Out)\n",
    "# it is just putting plates on top of one another and when we try to remove a plate, top most plate is removed\n",
    "# Stack is similar to the above example\n",
    "# insertion or deletion is possible only at one end i.e. top of stack\n",
    "\n",
    "# basic operations in stack are\n",
    "\n",
    "# push() - append an item to the stack\n",
    "# pop() - remove an item from the stack\n",
    "# empty() - checks whether the stack is empty or not\n",
    "# show() - displays the stack\n",
    "\n",
    "# Let's create a class stack\n",
    "class Stack:\n",
    "    \n",
    "    # create empty list\n",
    "    def __init__(self):\n",
    "        self.Elements = []\n",
    "    \n",
    "    # push() to insert an element \n",
    "    def push(self, value):\n",
    "        self.Elements.append(value)\n",
    "    \n",
    "    # pop() to remove and element\n",
    "    def pop(self):\n",
    "        return self.Elements.pop() # return is used to store the popped element\n",
    "    \n",
    "    # empty() shows the stack is empty or not\n",
    "    def empty(self):\n",
    "        return self.Elements == []\n",
    "    \n",
    "    # show() displays stack\n",
    "    def show(self):\n",
    "        for value in reversed(self.Elements):\n",
    "            print(value)\n",
    "            \n",
    "# Let's insert value at the botton of the stack\n",
    "# this is a recursive method\n",
    "def bottom_insert(s, value):\n",
    "    # s is an instance of stack class\n",
    "    # value is the item to be appended\n",
    "\n",
    "    # first check whether the stack is empty or not\n",
    "    if s.empty():\n",
    "        # if true, then call push() method\n",
    "        s.push(value)\n",
    "    else:\n",
    "        popped = s.pop()\n",
    "        bottom_insert(s, value)\n",
    "        s.push(popped)\n",
    "\n",
    "# reverse the stack\n",
    "def reverse(s):\n",
    "    # s is an instance of class stack\n",
    "    # check whether the stack is empty or not\n",
    "    \n",
    "    if s.empty():\n",
    "        pass\n",
    "    else:\n",
    "        popped = s.pop()\n",
    "        reverse(s)\n",
    "        bottom_insert(s, popped)\n",
    "        \n",
    "\n",
    "# create object of stack class\n",
    "\n",
    "stk = Stack()\n",
    "\n",
    "# push the items to the stack\n",
    "\n",
    "stk.push(1)\n",
    "stk.push(2)\n",
    "stk.push(3)\n",
    "stk.push(4)\n",
    "stk.push(5)\n",
    "\n",
    "# let's look at the stack after appending items\n",
    "print(\"The original stack is \")\n",
    "stk.show()\n",
    "\n",
    "# now let's look at the stack after reversing\n",
    "print(\"\\n Stack after reversing\")\n",
    "reverse(stk)\n",
    "stk.show()\n",
    "        \n",
    "        "
   ]
  },
  {
   "cell_type": "code",
   "execution_count": 5,
   "id": "f3153ac1",
   "metadata": {},
   "outputs": [
    {
     "name": "stdout",
     "output_type": "stream",
     "text": [
      "1\n",
      "2\n",
      "3\n",
      "4\n",
      "\n",
      "\n",
      "4\n",
      "3\n",
      "2\n",
      "1\n"
     ]
    }
   ],
   "source": [
    "s= [1,2,3,4]\n",
    "\n",
    "for j in s:\n",
    "    print(j)\n",
    "    \n",
    "print('\\n')\n",
    "\n",
    "for i in reversed(s):\n",
    "    print(i)"
   ]
  },
  {
   "cell_type": "code",
   "execution_count": null,
   "id": "ef2ffc94",
   "metadata": {},
   "outputs": [],
   "source": []
  }
 ],
 "metadata": {
  "kernelspec": {
   "display_name": "Python 3 (ipykernel)",
   "language": "python",
   "name": "python3"
  },
  "language_info": {
   "codemirror_mode": {
    "name": "ipython",
    "version": 3
   },
   "file_extension": ".py",
   "mimetype": "text/x-python",
   "name": "python",
   "nbconvert_exporter": "python",
   "pygments_lexer": "ipython3",
   "version": "3.8.10"
  }
 },
 "nbformat": 4,
 "nbformat_minor": 5
}
