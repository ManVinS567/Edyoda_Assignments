{
 "cells": [
  {
   "cell_type": "markdown",
   "id": "2d06afe4",
   "metadata": {},
   "source": [
    "# LINEAR DATA STRUCTURES"
   ]
  },
  {
   "cell_type": "markdown",
   "id": "1d24e008",
   "metadata": {},
   "source": [
    "## 3. Write a program to check if two strings are a rotation of each other?"
   ]
  },
  {
   "cell_type": "code",
   "execution_count": 8,
   "id": "687a08f0",
   "metadata": {},
   "outputs": [
    {
     "name": "stdout",
     "output_type": "stream",
     "text": [
      "Enter the str1: abcd\n",
      "Enter the str2: bcda\n",
      "str2 - bcda is rotation of str1 -abcd\n"
     ]
    }
   ],
   "source": [
    "# check whether two strings are rotation of each other\n",
    "# which means that the elements in both the strings are same but the order is different\n",
    "\n",
    "# let's create a function which checks whether the two strings are rotation of each other or not\n",
    "\n",
    "def str_rotations(str1, str2):\n",
    "    # this function is to check whether str2 is rotation of str1\n",
    "    # which means that the elements in str2 are indeed in str1\n",
    "    # str2 is a replica of str1 but in different order\n",
    "    \n",
    "    # let's check whether the size of str1 and str2 are equal\n",
    "    # without which they are not equal\n",
    "    \n",
    "    \n",
    "    size1 = len(str1)\n",
    "    size2 = len(str2)\n",
    "    if size1 != size2:\n",
    "        return 0 # 0 means False\n",
    "    \n",
    "    # so let's create a new temp string by concatenating str1 with str1\n",
    "    temp = str1 + str1\n",
    "    # now let's check whether str2 is in temp\n",
    "    \n",
    "    if temp.count(str2):\n",
    "        print(f\"str2 - {str2} is rotation of str1 -{str1}\")\n",
    "    else:\n",
    "        print(f\"str2 - {str2} is not a rotation of str1 -{str1}\")\n",
    "\n",
    "        \n",
    "if __name__ == \"__main__\":\n",
    "    str1 = input(\"Enter the str1: \")\n",
    "    str2 = input(\"Enter the str2: \")\n",
    "    \n",
    "    str_rotations(str1, str2)\n",
    "    \n",
    "    "
   ]
  },
  {
   "cell_type": "code",
   "execution_count": 9,
   "id": "6b159994",
   "metadata": {},
   "outputs": [
    {
     "name": "stdout",
     "output_type": "stream",
     "text": [
      "Enter the str1: afge\n",
      "Enter the str2: dgcd\n",
      "str2 - dgcd is not a rotation of str1 -afge\n"
     ]
    }
   ],
   "source": [
    "str1 = input(\"Enter the str1: \")\n",
    "str2 = input(\"Enter the str2: \")\n",
    "\n",
    "str_rotations(str1, str2)\n",
    "    "
   ]
  },
  {
   "cell_type": "code",
   "execution_count": null,
   "id": "4458557c",
   "metadata": {},
   "outputs": [],
   "source": []
  }
 ],
 "metadata": {
  "kernelspec": {
   "display_name": "Python 3 (ipykernel)",
   "language": "python",
   "name": "python3"
  },
  "language_info": {
   "codemirror_mode": {
    "name": "ipython",
    "version": 3
   },
   "file_extension": ".py",
   "mimetype": "text/x-python",
   "name": "python",
   "nbconvert_exporter": "python",
   "pygments_lexer": "ipython3",
   "version": "3.8.10"
  }
 },
 "nbformat": 4,
 "nbformat_minor": 5
}
