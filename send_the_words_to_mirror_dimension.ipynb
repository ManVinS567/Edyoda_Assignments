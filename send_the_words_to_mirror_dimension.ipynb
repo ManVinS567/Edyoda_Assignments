{
 "cells": [
  {
   "cell_type": "markdown",
   "id": "9c01b320",
   "metadata": {},
   "source": [
    "# Send the words to mirror dimension"
   ]
  },
  {
   "cell_type": "markdown",
   "id": "6c5726a5",
   "metadata": {},
   "source": [
    "Write a Python program that accepts a word from the user and reverse it.\n",
    "\n",
    "\n",
    "\n",
    "Sample Test Case\n",
    "\n",
    "\n",
    "\n",
    "Input : Edyoda\n",
    "\n",
    "output: adoydE"
   ]
  },
  {
   "cell_type": "code",
   "execution_count": 3,
   "id": "13da1ed9",
   "metadata": {},
   "outputs": [
    {
     "name": "stdout",
     "output_type": "stream",
     "text": [
      "Enter a string which needs to be reversed: vinayshankar\n",
      "raknahsyaniv\n"
     ]
    }
   ],
   "source": [
    "#Let's take the input string from the user\n",
    "\n",
    "user_input = input(\"Enter a string which needs to be reversed: \")\n",
    "\n",
    "rev_word = user_input[::-1]\n",
    "print(rev_word)"
   ]
  },
  {
   "cell_type": "markdown",
   "id": "621d13b5",
   "metadata": {},
   "source": [
    "## Using for loop to reverse a string"
   ]
  },
  {
   "cell_type": "code",
   "execution_count": 10,
   "id": "82922245",
   "metadata": {},
   "outputs": [
    {
     "name": "stdout",
     "output_type": "stream",
     "text": [
      "Enter a string :vinay shankar\n",
      "v\n",
      "iv\n",
      "niv\n",
      "aniv\n",
      "yaniv\n",
      " yaniv\n",
      "s yaniv\n",
      "hs yaniv\n",
      "ahs yaniv\n",
      "nahs yaniv\n",
      "knahs yaniv\n",
      "aknahs yaniv\n",
      "raknahs yaniv\n",
      "\n",
      "The reverse string of vinay shankar is raknahs yaniv\n"
     ]
    }
   ],
   "source": [
    "#Let's reverse the string using for loop\n",
    "\n",
    "# take the user input for a string\n",
    "str_original = input(\"Enter a string :\")\n",
    "\n",
    "# use for loop to reverse the string\n",
    "#first create an reverse empty string\n",
    "rev_str = \"\"\n",
    "\n",
    "for each_ele in str_original:\n",
    "    rev_str = each_ele + rev_str\n",
    "    print(rev_str)\n",
    "\n",
    "# print the reverse string\n",
    "print(f\"\\nThe reverse string of {str_original} is {rev_str}\")\n"
   ]
  },
  {
   "cell_type": "code",
   "execution_count": null,
   "id": "bfb86d4e",
   "metadata": {},
   "outputs": [],
   "source": []
  }
 ],
 "metadata": {
  "kernelspec": {
   "display_name": "Python 3 (ipykernel)",
   "language": "python",
   "name": "python3"
  },
  "language_info": {
   "codemirror_mode": {
    "name": "ipython",
    "version": 3
   },
   "file_extension": ".py",
   "mimetype": "text/x-python",
   "name": "python",
   "nbconvert_exporter": "python",
   "pygments_lexer": "ipython3",
   "version": "3.8.10"
  }
 },
 "nbformat": 4,
 "nbformat_minor": 5
}
