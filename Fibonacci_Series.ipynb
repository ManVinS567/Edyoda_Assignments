{
 "cells": [
  {
   "cell_type": "markdown",
   "id": "b29642fb",
   "metadata": {},
   "source": [
    "# Let's play with Fibonacci"
   ]
  },
  {
   "cell_type": "markdown",
   "id": "1b362b97",
   "metadata": {},
   "source": [
    "Write a Python program to get the Fibonacci series between 0 to 50\n",
    "\n",
    "\n",
    "\n",
    "Note : The Fibonacci Sequence is the series of numbers :\n",
    "\n",
    "0, 1, 1, 2, 3, 5, 8, 13, 21, ....\n",
    "\n",
    "Every next number is found by adding up the two numbers before it.\n",
    "\n",
    "Expected Output : 1 1 2 3 5 8 13 21 34"
   ]
  },
  {
   "cell_type": "code",
   "execution_count": 10,
   "id": "255dce75",
   "metadata": {},
   "outputs": [
    {
     "name": "stdout",
     "output_type": "stream",
     "text": [
      "Enter the number to create fibonacci series upto the input number: 50\n",
      "\n",
      "Fibonacci Series: \n",
      "\n",
      "0\n",
      "1\n",
      "2\n",
      "3\n",
      "5\n",
      "8\n",
      "13\n",
      "21\n",
      "34\n",
      "55\n",
      "\n",
      "The Last number in the Fibonacci series between 0 to 50 is 55...\n"
     ]
    }
   ],
   "source": [
    "#declare two variables and assign values to the variables\n",
    "a,b = 0,1\n",
    "\n",
    "# let's use while loop to create a fibonacci series for numbers less than 100\n",
    "\n",
    "last_number = int(input(\"Enter the number to create fibonacci series upto the input number: \"))\n",
    "print(\"\\nFibonacci Series: \\n\")\n",
    "while b <= last_number:\n",
    "    if a == 0:\n",
    "        print(a)\n",
    "    a,b = b, a+b\n",
    "    print(b)\n",
    "\n",
    "print(f\"\\nThe Last number in the Fibonacci series between 0 to {last_number} is {b}...\")"
   ]
  },
  {
   "cell_type": "code",
   "execution_count": null,
   "id": "97e169e8",
   "metadata": {},
   "outputs": [],
   "source": []
  }
 ],
 "metadata": {
  "kernelspec": {
   "display_name": "Python 3 (ipykernel)",
   "language": "python",
   "name": "python3"
  },
  "language_info": {
   "codemirror_mode": {
    "name": "ipython",
    "version": 3
   },
   "file_extension": ".py",
   "mimetype": "text/x-python",
   "name": "python",
   "nbconvert_exporter": "python",
   "pygments_lexer": "ipython3",
   "version": "3.8.10"
  }
 },
 "nbformat": 4,
 "nbformat_minor": 5
}
