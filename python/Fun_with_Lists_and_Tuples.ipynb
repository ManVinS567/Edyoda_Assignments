{
 "cells": [
  {
   "cell_type": "markdown",
   "id": "12bfd7d7",
   "metadata": {},
   "source": [
    "# Fun with Lists and Tuples"
   ]
  },
  {
   "cell_type": "markdown",
   "id": "fed1d41e",
   "metadata": {},
   "source": [
    "Write a Python program to get a list, sorted in increasing order by the last element in each tuple from a given list of non-empty tuples\n",
    "\n",
    "\n",
    "\n",
    "Sample List : [(2, 5), (1, 2), (4, 4), (2, 3), (2, 1)]\n",
    "\n",
    "Expected Result : [(2, 1), (1, 2), (2, 3), (4, 4), (2, 5)]"
   ]
  },
  {
   "cell_type": "code",
   "execution_count": 26,
   "id": "d7261850",
   "metadata": {},
   "outputs": [],
   "source": [
    "# create a sample list of tuples\n",
    "\n",
    "sample_list = [(2, 5), (1, 2), (4, 4), (2, 3), (2, 1)]"
   ]
  },
  {
   "cell_type": "code",
   "execution_count": 49,
   "id": "e0e2d2dc",
   "metadata": {},
   "outputs": [
    {
     "data": {
      "text/plain": [
       "[(2, 1), (1, 2), (2, 3), (4, 4), (2, 5)]"
      ]
     },
     "execution_count": 49,
     "metadata": {},
     "output_type": "execute_result"
    }
   ],
   "source": [
    "# print the sample_list of tuples\n",
    "sample_list"
   ]
  },
  {
   "cell_type": "code",
   "execution_count": 53,
   "id": "8994a4bf",
   "metadata": {},
   "outputs": [
    {
     "data": {
      "text/plain": [
       "5"
      ]
     },
     "execution_count": 53,
     "metadata": {},
     "output_type": "execute_result"
    }
   ],
   "source": [
    "# to know the length of sample_list of tuples\n",
    "length = len(sample_list)\n",
    "length"
   ]
  },
  {
   "cell_type": "code",
   "execution_count": 56,
   "id": "2a8d295f",
   "metadata": {},
   "outputs": [
    {
     "data": {
      "text/plain": [
       "[(2, 1), (1, 2), (2, 3), (4, 4), (2, 5)]"
      ]
     },
     "execution_count": 56,
     "metadata": {},
     "output_type": "execute_result"
    }
   ],
   "source": [
    "# create a user defined function to sort the tuples list as per the last element in ascending order\n",
    "# with one argument i.e., tuple_list\n",
    "def sort_tuple_list(tuple_list):\n",
    "    for i in range(length):\n",
    "        for j in range(length-i-1):\n",
    "            if sample_list[j][-1] > sample_list[j+1][-1]:\n",
    "                # if above condition is true, swap the tuple elements\n",
    "                sample_list[j][-1], sample_list[j+1][-1] = sample_list[j+1][-1], sample_list[j][-1]\n",
    "    return tuple_list\n",
    "\n",
    "#now invoke the function to see the result\n",
    "sort_tuple_list(sample_list)\n",
    "        "
   ]
  },
  {
   "cell_type": "code",
   "execution_count": null,
   "id": "681fb30e",
   "metadata": {},
   "outputs": [],
   "source": []
  }
 ],
 "metadata": {
  "kernelspec": {
   "display_name": "Python 3 (ipykernel)",
   "language": "python",
   "name": "python3"
  },
  "language_info": {
   "codemirror_mode": {
    "name": "ipython",
    "version": 3
   },
   "file_extension": ".py",
   "mimetype": "text/x-python",
   "name": "python",
   "nbconvert_exporter": "python",
   "pygments_lexer": "ipython3",
   "version": "3.8.10"
  }
 },
 "nbformat": 4,
 "nbformat_minor": 5
}
