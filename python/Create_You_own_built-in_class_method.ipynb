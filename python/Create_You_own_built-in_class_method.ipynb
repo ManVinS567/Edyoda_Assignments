{
 "cells": [
  {
   "cell_type": "markdown",
   "id": "3639df1b",
   "metadata": {},
   "source": [
    "# OOPS\n",
    "# Create You own built-in class method"
   ]
  },
  {
   "cell_type": "code",
   "execution_count": null,
   "id": "4f0b3e97",
   "metadata": {},
   "outputs": [],
   "source": [
    "Create_You_own_built-in_class_method"
   ]
  },
  {
   "cell_type": "markdown",
   "id": "671c64fa",
   "metadata": {},
   "source": [
    "Write a Python class to implement pow(x, n)\n",
    "\n",
    "\n",
    "\n",
    "Explanation:\n",
    "\n",
    "Use should be able to find the nth power of the x.(i.e x*x*x*x...n times)\n",
    "\n",
    "You must implement it using Class\n",
    "\n",
    "\n",
    "\n",
    "Sample Input:\n",
    "\n",
    "x: 10\n",
    "\n",
    "n: 2\n",
    "\n",
    "\n",
    "\n",
    "Sample Output:\n",
    "\n",
    "100"
   ]
  },
  {
   "cell_type": "code",
   "execution_count": 54,
   "id": "666bc83f",
   "metadata": {},
   "outputs": [],
   "source": [
    "# creating a class to find the power of something with identifier power\n",
    "class power:\n",
    "    # define a method to take the arguments and return the output\n",
    "    def pow(self, x, n): # takes two arguments, base as x and power as n\n",
    "        # if the base is 0 or power is 1, would return the value as 1\n",
    "        if x == 0 or n ==1:\n",
    "            return x\n",
    "        # if the power is 0 or the base is 1, would return the value as 1\n",
    "        elif n== 0 or x == 1:\n",
    "            return 1\n",
    "\n",
    "        # check whether the base is negative i.e -1 or not\n",
    "        if x==-1:\n",
    "            # if true, check whether the power is multiples of 2 or not, if true, \n",
    "            # then negative no. becomes positive and return only 1, else returns -1 only.\n",
    "            if n%2 == 0:\n",
    "                return 1\n",
    "            else:\n",
    "                return -1\n",
    "        \n",
    "        # check whether the power is negative or not\n",
    "        if n<0:\n",
    "            # if true, to make it a positive number, resultant value will be divided by 1\n",
    "            return 1/pow(x,-n)\n",
    "        # create a instance variable to store the value by reducing the power by half until it reaches 1.. recursive\n",
    "        val = self.pow(x,n//2) # // floor division will returns an integer rather than a decimal, \n",
    "        # when n == 1, returns x as per the above code and recursion upto n(n//2) value is half of original n value.\n",
    "        \n",
    "        #check whether n is an even or odd integer by using mod operator\n",
    "        \n",
    "        if n%2 == 0:\n",
    "            # when even, return val * val, since val is equivalent to square root of output when the power is even.\n",
    "            return val * val\n",
    "        # when power is odd, multiplying again with the base would give us the output.\n",
    "        return val * val * x"
   ]
  },
  {
   "cell_type": "code",
   "execution_count": 55,
   "id": "cfa754e5",
   "metadata": {},
   "outputs": [
    {
     "data": {
      "text/plain": [
       "15625"
      ]
     },
     "execution_count": 55,
     "metadata": {},
     "output_type": "execute_result"
    }
   ],
   "source": [
    "powr = power()\n",
    "powr.pow(5,6)"
   ]
  },
  {
   "cell_type": "code",
   "execution_count": 56,
   "id": "2419e85c",
   "metadata": {},
   "outputs": [
    {
     "name": "stdout",
     "output_type": "stream",
     "text": [
      "Enter the base x : 10\n",
      "Enter the power n: 2\n",
      "The 2th power of 10 is 100\n"
     ]
    }
   ],
   "source": [
    "powr = power() # creating an instance of class\n",
    "x = int(input(\"Enter the base x : \"))\n",
    "n = int(input(\"Enter the power n: \"))\n",
    "print(f\"The {n}th power of {x} is {powr.pow(x,n)}\")"
   ]
  },
  {
   "cell_type": "code",
   "execution_count": 57,
   "id": "354127dc",
   "metadata": {},
   "outputs": [
    {
     "name": "stdout",
     "output_type": "stream",
     "text": [
      "Enter the base x : 5\n",
      "Enter the power n: 6\n",
      "The 6th power of 5 is 15625\n"
     ]
    }
   ],
   "source": [
    "powr = power() # creating an instance of class\n",
    "x = int(input(\"Enter the base x : \"))\n",
    "n = int(input(\"Enter the power n: \"))\n",
    "print(f\"The {n}th power of {x} is {powr.pow(x,n)}\")"
   ]
  },
  {
   "cell_type": "code",
   "execution_count": 58,
   "id": "11c1d296",
   "metadata": {},
   "outputs": [
    {
     "name": "stdout",
     "output_type": "stream",
     "text": [
      "Enter the base x : 5\n",
      "Enter the power n: 7\n",
      "The 7th power of 5 is 78125\n"
     ]
    }
   ],
   "source": [
    "powr = power() # creating an instance of class\n",
    "x = int(input(\"Enter the base x : \"))\n",
    "n = int(input(\"Enter the power n: \"))\n",
    "print(f\"The {n}th power of {x} is {powr.pow(x,n)}\")"
   ]
  },
  {
   "cell_type": "code",
   "execution_count": null,
   "id": "7696a08b",
   "metadata": {},
   "outputs": [],
   "source": []
  }
 ],
 "metadata": {
  "kernelspec": {
   "display_name": "Python 3 (ipykernel)",
   "language": "python",
   "name": "python3"
  },
  "language_info": {
   "codemirror_mode": {
    "name": "ipython",
    "version": 3
   },
   "file_extension": ".py",
   "mimetype": "text/x-python",
   "name": "python",
   "nbconvert_exporter": "python",
   "pygments_lexer": "ipython3",
   "version": "3.9.7"
  }
 },
 "nbformat": 4,
 "nbformat_minor": 5
}
