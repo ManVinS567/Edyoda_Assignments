{
 "cells": [
  {
   "cell_type": "markdown",
   "id": "94b2abaf",
   "metadata": {},
   "source": [
    "# Game of \"Functions\""
   ]
  },
  {
   "cell_type": "markdown",
   "id": "aaa6865d",
   "metadata": {},
   "source": [
    "Write a Python function to sum all the numbers in a list.\n",
    "\n",
    "\n",
    "\n",
    "Sample List : (8, 2, 3, 0, 7)\n",
    "\n",
    "Expected Output : 20\n",
    "\n",
    "\n",
    "\n",
    "Explanation:\n",
    "\n",
    "\n",
    "\n",
    "Summation should like 8+2+3+0+7 = 20"
   ]
  },
  {
   "cell_type": "code",
   "execution_count": 3,
   "id": "5dba3c49",
   "metadata": {},
   "outputs": [],
   "source": [
    "# Let's create a list\n",
    "\n",
    "sample_list = [8,2,3,0,7]\n",
    "\n",
    "# let's define a function which takes exactly one argument i.e. list to sum the list\n",
    "def summation(lst):\n",
    "    # initialise sum\n",
    "    sum=0\n",
    "\n",
    "    # using for loop to loop through all the elements in a list\n",
    "    for num in lst:\n",
    "        sum += num\n",
    "    return sum"
   ]
  },
  {
   "cell_type": "code",
   "execution_count": 9,
   "id": "5d04fd47",
   "metadata": {},
   "outputs": [
    {
     "name": "stdout",
     "output_type": "stream",
     "text": [
      "sum of numbers in a list-[8, 2, 3, 0, 7] is = 20\n"
     ]
    }
   ],
   "source": [
    "# let's invoke the function with the sample list created above\n",
    "sum_of_numbers = summation(sample_list)\n",
    "print(f\"sum of numbers in a list-{sample_list} is = {sum_of_numbers}\")"
   ]
  },
  {
   "cell_type": "code",
   "execution_count": null,
   "id": "34de6864",
   "metadata": {},
   "outputs": [],
   "source": []
  }
 ],
 "metadata": {
  "kernelspec": {
   "display_name": "Python 3 (ipykernel)",
   "language": "python",
   "name": "python3"
  },
  "language_info": {
   "codemirror_mode": {
    "name": "ipython",
    "version": 3
   },
   "file_extension": ".py",
   "mimetype": "text/x-python",
   "name": "python",
   "nbconvert_exporter": "python",
   "pygments_lexer": "ipython3",
   "version": "3.8.10"
  }
 },
 "nbformat": 4,
 "nbformat_minor": 5
}
