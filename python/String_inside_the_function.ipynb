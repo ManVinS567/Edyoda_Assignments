{
 "cells": [
  {
   "cell_type": "markdown",
   "id": "4d069b50",
   "metadata": {},
   "source": [
    "# String inside the function"
   ]
  },
  {
   "cell_type": "markdown",
   "id": "a2a65460",
   "metadata": {},
   "source": [
    "Write a Python program to reverse a string.\n",
    "\n",
    "\n",
    "\n",
    "﻿Sample String : \"1234abcd\"\n",
    "\n",
    "Expected Output : \"dcba4321\""
   ]
  },
  {
   "cell_type": "code",
   "execution_count": 2,
   "id": "8d4c0c7e",
   "metadata": {},
   "outputs": [
    {
     "name": "stdout",
     "output_type": "stream",
     "text": [
      "dcba4321\n"
     ]
    }
   ],
   "source": [
    "# create a string\n",
    "\n",
    "sample_string = \"1234abcd\"\n",
    "\n",
    "# reverse the string\n",
    "\n",
    "rev_string = sample_string[::-1]\n",
    "\n",
    "print(rev_string)"
   ]
  },
  {
   "cell_type": "code",
   "execution_count": 6,
   "id": "0749bb42",
   "metadata": {},
   "outputs": [
    {
     "name": "stdout",
     "output_type": "stream",
     "text": [
      "dcba4321\n"
     ]
    }
   ],
   "source": [
    "# another method to reverse a string using for loop\n",
    "\n",
    "sample_string2 = \"1234abcd\"\n",
    "\n",
    "# reverse the string using for loop\n",
    "# first initialise an empty string\n",
    "\n",
    "def rev_string(str):\n",
    "    rev_str = \"\"\n",
    "\n",
    "    # using for loop to loop through each element in a string\n",
    "\n",
    "    for each_ele in sample_string2:\n",
    "        rev_str = each_ele + rev_str\n",
    "    return rev_str\n",
    "\n",
    "\n",
    "# invoke the function to reverse the string in sample_string2\n",
    "\n",
    "reverse_string = rev_string(sample_string2)\n",
    "print(reverse_string)\n"
   ]
  },
  {
   "cell_type": "code",
   "execution_count": null,
   "id": "701c76d5",
   "metadata": {},
   "outputs": [],
   "source": []
  }
 ],
 "metadata": {
  "kernelspec": {
   "display_name": "Python 3 (ipykernel)",
   "language": "python",
   "name": "python3"
  },
  "language_info": {
   "codemirror_mode": {
    "name": "ipython",
    "version": 3
   },
   "file_extension": ".py",
   "mimetype": "text/x-python",
   "name": "python",
   "nbconvert_exporter": "python",
   "pygments_lexer": "ipython3",
   "version": "3.8.10"
  }
 },
 "nbformat": 4,
 "nbformat_minor": 5
}
