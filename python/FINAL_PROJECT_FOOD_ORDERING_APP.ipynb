{
 "cells": [
  {
   "cell_type": "markdown",
   "id": "e04c72d7",
   "metadata": {},
   "source": [
    "# Food Ordering App"
   ]
  },
  {
   "cell_type": "markdown",
   "id": "b2570a03",
   "metadata": {},
   "source": [
    "You have to design a Food Ordering app for a restaurant.\n",
    "\n",
    "\n",
    "\n",
    "The application will have a log-in for admin and users.\n",
    "\n",
    "\n",
    "\n",
    "Admin will have the following functionalities:\n",
    "\n",
    "1. Add new food items. Food Item will have the following details:\n",
    "1. FoodID //It should be generated automatically by the application.\n",
    "1. Name\n",
    "1. Quantity. For eg, 100ml, 250gm, 4pieces etc\n",
    "1. Price\n",
    "1. Discount\n",
    "1. Stock. Amount left in stock in the restaurant.\n",
    "1. Edit food items using FoodID.\n",
    "1. View the list of all food items.\n",
    "1. Remove a food item from the menu using FoodID.\n",
    "\n",
    "\n",
    "\n",
    "\n",
    "The user will have the following functionalities:\n",
    "\n",
    "1. Register on the application. Following to be entered for registration:\n",
    "1. Full Name\n",
    "1. Phone Number\n",
    "1. Email\n",
    "1. Address\n",
    "1. Password\n",
    "1. Log in to the application\n",
    "1. The user will see 3 options:\n",
    "1. Place New Order\n",
    "1. Order History\n",
    "1. Update Profile\n",
    "1. Place New Order: The user can place a new order at the restaurant.\n",
    "1. Show list of food. The list item should as follows:\n",
    "1. 1. Tandoori Chicken (4 pieces) [INR 240]\n",
    "2. 2. Vegan Burger (1 Piece) [INR 320]\n",
    "3. 3. Truffle Cake (500gm) [INR 900]\n",
    "1. Users should be able to select food by entering an array of numbers. For example, if the user wants to order Vegan Burger and Truffle Cake they should enter [2, 3]\n",
    "1. Once the items are selected user should see the list of all the items selected. The user will also get an option to place an order.\n",
    "1. Order History should show a list of all the previous orders\n",
    "1. Update Profile: the user should be able to update their profile.\n"
   ]
  },
  {
   "cell_type": "code",
   "execution_count": 99,
   "id": "5fbf6d02",
   "metadata": {},
   "outputs": [],
   "source": [
    "# import the json library to store data\n",
    "import json\n",
    "\n",
    "class Restaurant:\n",
    "\n",
    "    def __init__(self):\n",
    "        print(\"Welcome to the Restaurant.....\\n\")\n",
    "\n",
    "        self.foods={} # creating an empty dictionary to store the food items\n",
    "        self.food_id=len(self.foods) # creating an unique food_id for each food item\n",
    "        self.personal_details = {} # creating an empty dictionary to store the personal details of the user\n",
    "        self.user_id = len(self.personal_details)\n",
    "        self.order = []\n",
    "        \n",
    "        while True:\n",
    "            print(\"1. Admin, 2. User, 3. Exit\")\n",
    "\n",
    "            self.input_func = int(input(\"Enter the type of function you want to use? :: \"))\n",
    "            \n",
    "            if self.input_func == 1:\n",
    "                print(\"\\n1. Add food items,\\n 2. Edit Food items, \\n 3. View Food items, \\n 4. Remove Food items\")\n",
    "                self.input_admin_func = int(input(\"\\nEnter one of the function from above to proceed further  :: \"))\n",
    "\n",
    "                if self.input_admin_func == 1:\n",
    "                    self.add_food_items()\n",
    "                if self.input_admin_func == 2:\n",
    "                    self.edit_food_items()\n",
    "                if self.input_admin_func == 3:\n",
    "                    self.view_food_items()            \n",
    "                if self.input_admin_func == 4:\n",
    "                    self.remove_food_items()\n",
    "                else:\n",
    "                    print(\"Please enter the correct function\")\n",
    "                    \n",
    "            elif self.input_func == 2:\n",
    "                print(\" 1. Register,\\n 2. Login\\n\")\n",
    "                self.input_admin_func = int(input(\"Enter one of the function from above to proceed further  :: \"))\n",
    "\n",
    "                if self.input_admin_func == 1:\n",
    "                    self.register()\n",
    "                if self.input_admin_func == 2:\n",
    "\n",
    "                    self.login()\n",
    "                    print(\"\\n1. Place New Order,\\n 2. Order History, \\n 3. Update Profie\")\n",
    "\n",
    "                    self.user_input_after_login = int(input(\"\\nEnter one of the function from above to proceed further  :: \"))\n",
    "\n",
    "                    if self.user_input_after_login == 1:\n",
    "                        self.place_order()\n",
    "                    if self.user_input_after_login == 2:\n",
    "                        self.view_order_history()\n",
    "                    if self.user_input_after_login == 3:\n",
    "                        self.update_profile()            \n",
    "                    else:\n",
    "                        print(\"Please enter the correct function\")\n",
    "\n",
    "                else:\n",
    "                    print(\"Please enter the correct function\")\n",
    "\n",
    "            elif self.input_func == 3:\n",
    "                print(\"Please come back again...\")\n",
    "                break\n",
    "            else:\n",
    "                print(\"Please enter the correct function\")   \n",
    "        \n",
    "        \n",
    "        \n",
    "    # Admin Functionality:\n",
    "    def add_food_items(self):\n",
    "        self.name = input(\"Enter food name  :: \")\n",
    "        self.quantity = int(input(\"Enter food quantity   :: \"))\n",
    "        self.price = int(input(\"Enter food price : $ \"))\n",
    "        self.discount = int(input(\"Enter food discount  :: \"))\n",
    "        self.stock = int(input(\"Enter Food Stock : Kg \"))\n",
    "        self.item = {\"name\": self.name, \"quantity  :: \": self.quantity, \"price\": self.price, \"discount\": self.discount, \"stock\": self.stock}\n",
    "        self.food_id = len(self.foods)+1\n",
    "        self.foods[self.food_id] = self.item\n",
    "        print()\n",
    "        print(self.foods)\n",
    "        with open(\"Food_items.json\", \"w\") as f:\n",
    "            json.dump(self.foods,f)\n",
    "        print(\"Item added successfully\")\n",
    "        print(\"**********************************\")\n",
    "        \n",
    "    # edit_food items\n",
    "    def edit_food_items(self):\n",
    "        f_id = int(input(\"Enter the food_id which you want to update: \"))\n",
    "        for i in self.foods[f_id]:\n",
    "            self.foods[f_id][i] = input(f\"Enter the {i} that you want to update: \")\n",
    "        print(self.foods)\n",
    "        with open(\"Food_items.json\", \"w\") as f:\n",
    "            json.dump(self.foods,f)\n",
    "        print(\"Food_item updated successfully\")\n",
    "        print(\"**********************************\")\n",
    "\n",
    "        \n",
    "    # view food items\n",
    "    def view_food_items(self):\n",
    "        print(\"list of all food items\")\n",
    "        for i in self.foods:\n",
    "            print(\"food_id :\", i, \"\\n*********************\")\n",
    "            for j in self.foods[i]:\n",
    "                print(j, \":\", self.foods[i][j])\n",
    "        print(\"**********************************\")\n",
    "            \n",
    "    # remove the food items\n",
    "    def remove_food_items(self):\n",
    "        del self.foods[int(input(\"Enter the food_id which you want to delete: \"))]\n",
    "        with open (\"Food_items.json\", \"w\") as f:\n",
    "            json.dump(self.foods,f)\n",
    "        print(\"Remaining items are : \", self.foods)\n",
    "        print(\"**********************************\")\n",
    "        \n",
    "    \n",
    "    # User Registration\n",
    "    def register(self):\n",
    "        self.full_name = input(\"Enter full name: \")\n",
    "        self.phone_number = int(input(\"Enter phone number \"))\n",
    "        self.email = input(\"Enter email: \")\n",
    "        self.address = input(\"Enter address \")\n",
    "        self.password = input(\"Enter password :  \")\n",
    "        self.details = {\"full_name\": self.full_name, \"phone_number\": self.phone_number, \"email\": self.email, \"address\": self.address, \"password\": self.password}\n",
    "        self.user_id = len(self.personal_details)+1\n",
    "        self.personal_details[self.user_id] = self.details\n",
    "        print(self.personal_details)\n",
    "        with open(\"User_details.json\", \"w\") as f:\n",
    "            json.dump(self.personal_details,f)\n",
    "        print(\"User registered successfully\")\n",
    "        print(\"**********************************\")\n",
    "    \n",
    "    # user login function\n",
    "    def login(self):\n",
    "        i = 1\n",
    "\n",
    "        while i <= 3:\n",
    "\n",
    "            self.username = input(\"Enter your email : \")\n",
    "\n",
    "            self.password = input(\"Enter the password : \")\n",
    "            \n",
    "            self.credentials = {}\n",
    "            \n",
    "            for x in self.personal_details.keys():\n",
    "                self.credentials[self.personal_details[x]['email']] = self.personal_details[x]['password']\n",
    "            \n",
    "            try:\n",
    "\n",
    "                if self.username in self.credentials.keys():\n",
    "                    if self.credentials[self.username] == self.password:\n",
    "                        print(\"Success\")\n",
    "                        break\n",
    "                    else:\n",
    "                        print(\"\\nyou have entered wrong password\\n\")\n",
    "\n",
    "                else:\n",
    "                    print('\\nYou have entered incorrect username\\n')\n",
    "            except:\n",
    "                KeyError\n",
    "                print(\"Enter the correcttt credentials\")\n",
    "            if i < 3:\n",
    "                print(f\"you are left with {3-i} attempts\\n\")\n",
    "            else:\n",
    "                print(\"You have exhausted all the attempts!!!! Try again after sometime\\n\")\n",
    "                print(\"**********************************\")\n",
    "                break\n",
    "            i += 1\n",
    "                                \n",
    "    def place_order(self):\n",
    "        self.menu = {\n",
    "                1: 'Tandoor Chicken (4 pieces) [INR 240]',\n",
    "                2: 'Vegan Burger (1 Piece) [INR 320]',\n",
    "                3: 'Truffle Cake (500gm) [INR 900]'\n",
    "                }\n",
    "        \n",
    "        print(\"\\nMENU:\\n\")\n",
    "        for item in self.menu.items():\n",
    "            print(item)\n",
    "\n",
    "        self.user_order = input(\"\\nEnter the orders from the menu\").split()\n",
    "\n",
    "        for orders in self.user_order:\n",
    "            if int(orders) == 1:\n",
    "                print(f\"you have ordered for {self.menu[int(orders)]}\")\n",
    "            elif int(orders) == 2:\n",
    "                print(f\"you have ordered for {self.menu[int(orders)]}\")\n",
    "            elif int(orders) == 3:\n",
    "                print(f\"you have ordered for {self.menu[int(orders)]}\")\n",
    "            else:\n",
    "                print(\"Please order from the avaiable menu\")\n",
    "                print(\"**********************************\")\n",
    "       \n",
    "        print(\"Do you want to place the order for above selected items?\\n\")\n",
    "        self.order_placement_input = int(input(\"1. Yes,\\n 2. No\\n\"))\n",
    "        \n",
    "        if self.order_placement_input == 1:\n",
    "            for orders_ in self.user_order:\n",
    "                if int(orders_) == 1:\n",
    "                    self.order.append(self.menu[int(orders_)])\n",
    "                if int(orders_) == 2:\n",
    "                    self.order.append(self.menu[int(orders_)])\n",
    "                if int(orders_) == 3:\n",
    "                    self.order.append(self.menu[int(orders_)])\n",
    "            print(\"\\nYour order successfully placed...\")\n",
    "            print(\"**********************************\")\n",
    "        \n",
    "            with open (\"orders.json\", \"w\") as f:\n",
    "                json.dump(self.order,f)\n",
    "\n",
    "\n",
    "        \n",
    "\n",
    "    \n",
    "    # view order history\n",
    "    def view_order_history(self):\n",
    "        print(\"list of all orders\")\n",
    "        for i in self.order:\n",
    "            print(i)\n",
    "        print(\"**********************************\")\n",
    "        \n",
    "    # update user profile        \n",
    "    def update_profile(self):\n",
    "        print(self.personal_details)\n",
    "        self.usr_id = int(input(\"Enter the user_id which you want to update: \"))\n",
    "        for x in self.personal_details[self.usr_id]:\n",
    "            self.personal_details[self.usr_id][x] = input(f\"Enter the {x} that you want to update: \")\n",
    "        print(self.personal_details)\n",
    "        with open(\"User_details.json\", \"w\") as f:\n",
    "            json.dump(self.personal_details,f)\n",
    "        print(\"User Profile updated successfully\")\n",
    "        print(\"**********************************\")\n",
    "   \n",
    "\n",
    "\n",
    "        \n",
    "        "
   ]
  },
  {
   "cell_type": "code",
   "execution_count": 103,
   "id": "fdf8b3ce",
   "metadata": {},
   "outputs": [
    {
     "name": "stdout",
     "output_type": "stream",
     "text": [
      "Welcome to the Restaurant.....\n",
      "\n",
      "1. Admin, 2. User, 3. Exit\n",
      "Enter the type of function you want to use? :: 1\n",
      "\n",
      "1. Add food items,\n",
      " 2. Edit Food items, \n",
      " 3. View Food items, \n",
      " 4. Remove Food items\n",
      "\n",
      "Enter one of the function from above to proceed further  :: 1\n",
      "Enter food name  :: Maggiee\n",
      "Enter food quantity   :: 1600\n",
      "Enter food price : $ 160\n",
      "Enter food discount  :: 10\n",
      "Enter Food Stock : Kg 16\n",
      "\n",
      "{1: {'name': 'Maggiee', 'quantity  :: ': 1600, 'price': 160, 'discount': 10, 'stock': 16}}\n",
      "Item added successfully\n",
      "**********************************\n",
      "Please enter the correct function\n",
      "1. Admin, 2. User, 3. Exit\n",
      "Enter the type of function you want to use? :: 1\n",
      "\n",
      "1. Add food items,\n",
      " 2. Edit Food items, \n",
      " 3. View Food items, \n",
      " 4. Remove Food items\n",
      "\n",
      "Enter one of the function from above to proceed further  :: 1\n",
      "Enter food name  :: Noodles\n",
      "Enter food quantity   :: 1500\n",
      "Enter food price : $ 150\n",
      "Enter food discount  :: 10\n",
      "Enter Food Stock : Kg 15\n",
      "\n",
      "{1: {'name': 'Maggiee', 'quantity  :: ': 1600, 'price': 160, 'discount': 10, 'stock': 16}, 2: {'name': 'Noodles', 'quantity  :: ': 1500, 'price': 150, 'discount': 10, 'stock': 15}}\n",
      "Item added successfully\n",
      "**********************************\n",
      "Please enter the correct function\n",
      "1. Admin, 2. User, 3. Exit\n",
      "Enter the type of function you want to use? :: 3\n",
      "Please come back again...\n"
     ]
    }
   ],
   "source": [
    "x = Restaurant()"
   ]
  },
  {
   "cell_type": "code",
   "execution_count": 104,
   "id": "4a0b9e3e",
   "metadata": {},
   "outputs": [
    {
     "name": "stdout",
     "output_type": "stream",
     "text": [
      "Enter the food_id which you want to update: 1\n",
      "Enter the name that you want to update: Pasta\n",
      "Enter the quantity  ::  that you want to update: 2000\n",
      "Enter the price that you want to update: 200\n",
      "Enter the discount that you want to update: 20\n",
      "Enter the stock that you want to update: 20\n",
      "{1: {'name': 'Pasta', 'quantity  :: ': '2000', 'price': '200', 'discount': '20', 'stock': '20'}, 2: {'name': 'Noodles', 'quantity  :: ': 1500, 'price': 150, 'discount': 10, 'stock': 15}}\n",
      "Food_item updated successfully\n",
      "**********************************\n"
     ]
    }
   ],
   "source": [
    "x.edit_food_items()"
   ]
  },
  {
   "cell_type": "code",
   "execution_count": 105,
   "id": "75587f23",
   "metadata": {},
   "outputs": [
    {
     "name": "stdout",
     "output_type": "stream",
     "text": [
      "list of all food items\n",
      "food_id : 1 \n",
      "*********************\n",
      "name : Pasta\n",
      "quantity  ::  : 2000\n",
      "price : 200\n",
      "discount : 20\n",
      "stock : 20\n",
      "food_id : 2 \n",
      "*********************\n",
      "name : Noodles\n",
      "quantity  ::  : 1500\n",
      "price : 150\n",
      "discount : 10\n",
      "stock : 15\n",
      "**********************************\n"
     ]
    }
   ],
   "source": [
    "x.view_food_items()"
   ]
  },
  {
   "cell_type": "code",
   "execution_count": 106,
   "id": "00d03380",
   "metadata": {},
   "outputs": [
    {
     "name": "stdout",
     "output_type": "stream",
     "text": [
      "Enter the food_id which you want to delete: 1\n",
      "Remaining items are :  {2: {'name': 'Noodles', 'quantity  :: ': 1500, 'price': 150, 'discount': 10, 'stock': 15}}\n",
      "**********************************\n"
     ]
    }
   ],
   "source": [
    "x.remove_food_items()"
   ]
  },
  {
   "cell_type": "code",
   "execution_count": 107,
   "id": "8e395f5b",
   "metadata": {},
   "outputs": [
    {
     "name": "stdout",
     "output_type": "stream",
     "text": [
      "Enter full name: vinay\n",
      "Enter phone number 9966558965\n",
      "Enter email: manvins567@gmail.com\n",
      "Enter address address\n",
      "Enter password :  pwd\n",
      "{1: {'full_name': 'vinay', 'phone_number': 9966558965, 'email': 'manvins567@gmail.com', 'address': 'address', 'password': 'pwd'}}\n",
      "User registered successfully\n",
      "**********************************\n"
     ]
    }
   ],
   "source": [
    "x.register()"
   ]
  },
  {
   "cell_type": "code",
   "execution_count": 108,
   "id": "925822ec",
   "metadata": {},
   "outputs": [
    {
     "name": "stdout",
     "output_type": "stream",
     "text": [
      "Enter full name: shankar\n",
      "Enter phone number 5465895\n",
      "Enter email: abc@gmail.com\n",
      "Enter address add\n",
      "Enter password :  pass\n",
      "{1: {'full_name': 'vinay', 'phone_number': 9966558965, 'email': 'manvins567@gmail.com', 'address': 'address', 'password': 'pwd'}, 2: {'full_name': 'shankar', 'phone_number': 5465895, 'email': 'abc@gmail.com', 'address': 'add', 'password': 'pass'}}\n",
      "User registered successfully\n",
      "**********************************\n"
     ]
    }
   ],
   "source": [
    "x.register()"
   ]
  },
  {
   "cell_type": "code",
   "execution_count": 109,
   "id": "76114532",
   "metadata": {},
   "outputs": [
    {
     "name": "stdout",
     "output_type": "stream",
     "text": [
      "Enter your email : manvins567@gmail.com\n",
      "Enter the password : pwd\n",
      "Success\n"
     ]
    }
   ],
   "source": [
    "x.login()"
   ]
  },
  {
   "cell_type": "code",
   "execution_count": 110,
   "id": "edcf0fc8",
   "metadata": {},
   "outputs": [
    {
     "name": "stdout",
     "output_type": "stream",
     "text": [
      "Enter your email : manvins567@gmail.com\n",
      "Enter the password : 55\n",
      "\n",
      "you have entered wrong password\n",
      "\n",
      "you are left with 2 attempts\n",
      "\n",
      "Enter your email : adf\n",
      "Enter the password : 56\n",
      "\n",
      "You have entered incorrect username\n",
      "\n",
      "you are left with 1 attempts\n",
      "\n",
      "Enter your email : asdfj\n",
      "Enter the password : 565\n",
      "\n",
      "You have entered incorrect username\n",
      "\n",
      "You have exhausted all the attempts!!!! Try again after sometime\n",
      "\n",
      "**********************************\n"
     ]
    }
   ],
   "source": [
    "x.login()"
   ]
  },
  {
   "cell_type": "code",
   "execution_count": 111,
   "id": "623bb1fd",
   "metadata": {},
   "outputs": [
    {
     "name": "stdout",
     "output_type": "stream",
     "text": [
      "\n",
      "MENU:\n",
      "\n",
      "(1, 'Tandoor Chicken (4 pieces) [INR 240]')\n",
      "(2, 'Vegan Burger (1 Piece) [INR 320]')\n",
      "(3, 'Truffle Cake (500gm) [INR 900]')\n",
      "\n",
      "Enter the orders from the menu1 2 3\n",
      "you have ordered for Tandoor Chicken (4 pieces) [INR 240]\n",
      "you have ordered for Vegan Burger (1 Piece) [INR 320]\n",
      "you have ordered for Truffle Cake (500gm) [INR 900]\n",
      "Do you want to place the order for above selected items?\n",
      "\n",
      "1. Yes,\n",
      " 2. No\n",
      "1\n",
      "\n",
      "Your order successfully placed...\n",
      "**********************************\n"
     ]
    }
   ],
   "source": [
    "x.place_order()"
   ]
  },
  {
   "cell_type": "code",
   "execution_count": 112,
   "id": "d0ffce5f",
   "metadata": {},
   "outputs": [
    {
     "name": "stdout",
     "output_type": "stream",
     "text": [
      "list of all orders\n",
      "Tandoor Chicken (4 pieces) [INR 240]\n",
      "Vegan Burger (1 Piece) [INR 320]\n",
      "Truffle Cake (500gm) [INR 900]\n",
      "**********************************\n"
     ]
    }
   ],
   "source": [
    "x.view_order_history()"
   ]
  },
  {
   "cell_type": "code",
   "execution_count": 113,
   "id": "b81c39b4",
   "metadata": {},
   "outputs": [
    {
     "name": "stdout",
     "output_type": "stream",
     "text": [
      "{1: {'full_name': 'vinay', 'phone_number': 9966558965, 'email': 'manvins567@gmail.com', 'address': 'address', 'password': 'pwd'}, 2: {'full_name': 'shankar', 'phone_number': 5465895, 'email': 'abc@gmail.com', 'address': 'add', 'password': 'pass'}}\n",
      "Enter the user_id which you want to update: 2\n",
      "Enter the full_name that you want to update: vijay\n",
      "Enter the phone_number that you want to update: 9999999999\n",
      "Enter the email that you want to update: email@gmail.com\n",
      "Enter the address that you want to update: my_address\n",
      "Enter the password that you want to update: my_password\n",
      "{1: {'full_name': 'vinay', 'phone_number': 9966558965, 'email': 'manvins567@gmail.com', 'address': 'address', 'password': 'pwd'}, 2: {'full_name': 'vijay', 'phone_number': '9999999999', 'email': 'email@gmail.com', 'address': 'my_address', 'password': 'my_password'}}\n",
      "User Profile updated successfully\n",
      "**********************************\n"
     ]
    }
   ],
   "source": [
    "x.update_profile()"
   ]
  },
  {
   "cell_type": "code",
   "execution_count": null,
   "id": "64f43b84",
   "metadata": {},
   "outputs": [],
   "source": []
  }
 ],
 "metadata": {
  "kernelspec": {
   "display_name": "Python 3 (ipykernel)",
   "language": "python",
   "name": "python3"
  },
  "language_info": {
   "codemirror_mode": {
    "name": "ipython",
    "version": 3
   },
   "file_extension": ".py",
   "mimetype": "text/x-python",
   "name": "python",
   "nbconvert_exporter": "python",
   "pygments_lexer": "ipython3",
   "version": "3.8.10"
  }
 },
 "nbformat": 4,
 "nbformat_minor": 5
}
