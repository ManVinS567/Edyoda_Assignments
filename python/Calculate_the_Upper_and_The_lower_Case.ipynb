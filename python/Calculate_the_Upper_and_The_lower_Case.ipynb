{
 "cells": [
  {
   "cell_type": "markdown",
   "id": "356b9fd4",
   "metadata": {},
   "source": [
    "# Calculate the Upper and The lower Case"
   ]
  },
  {
   "cell_type": "markdown",
   "id": "db3d43ec",
   "metadata": {},
   "source": [
    "Write a Python function that accepts a string and calculate the number of upper case letters and lower case letters.\n",
    "\n",
    "\n",
    "\n",
    "﻿Sample String : 'The quick Brow Fox'\n",
    "\n",
    "Expected Output :\n",
    "\n",
    "No. of Upper case characters : 3\n",
    "\n",
    "No. of Lower case Characters : 12"
   ]
  },
  {
   "cell_type": "code",
   "execution_count": 10,
   "id": "33beeb3f",
   "metadata": {},
   "outputs": [],
   "source": [
    "# let's define a function which takes the input and calculates the number of upper case and lower case letters\n",
    "\n",
    "def count_of_upper_lower_case_letters():\n",
    "    input_str = input(\"Enter a string: \")\n",
    "    \n",
    "    # first initilise the count of upper and lower case letters\n",
    "    count_upper = 0\n",
    "    count_lower = 0\n",
    "    \n",
    "    # use for loop to loop through the input_str\n",
    "    for str in input_str:\n",
    "        # using if condition to check whether a string is lower case or upper case\n",
    "        if str.islower():\n",
    "            # if it is true then increase lower case letters by 1\n",
    "            count_lower += 1\n",
    "        elif str.isupper():\n",
    "            # if the lower case condition is false then increase upper case letters by 1\n",
    "            count_upper += 1\n",
    "            \n",
    "    print(f\"The number of upper case letters : {count_lower}\")\n",
    "    print(f\"The number of upper case letters : {count_upper}\")            \n",
    "            "
   ]
  },
  {
   "cell_type": "code",
   "execution_count": 11,
   "id": "7c030159",
   "metadata": {},
   "outputs": [
    {
     "name": "stdout",
     "output_type": "stream",
     "text": [
      "Enter a string: The quick Brow Fox\n",
      "The number of upper case letters : 12\n",
      "The number of upper case letters : 3\n"
     ]
    }
   ],
   "source": [
    "count = count_of_upper_lower_case_letters()\n",
    "count"
   ]
  },
  {
   "cell_type": "code",
   "execution_count": null,
   "id": "f47ddf28",
   "metadata": {},
   "outputs": [],
   "source": []
  }
 ],
 "metadata": {
  "kernelspec": {
   "display_name": "Python 3 (ipykernel)",
   "language": "python",
   "name": "python3"
  },
  "language_info": {
   "codemirror_mode": {
    "name": "ipython",
    "version": 3
   },
   "file_extension": ".py",
   "mimetype": "text/x-python",
   "name": "python",
   "nbconvert_exporter": "python",
   "pygments_lexer": "ipython3",
   "version": "3.8.10"
  }
 },
 "nbformat": 4,
 "nbformat_minor": 5
}
