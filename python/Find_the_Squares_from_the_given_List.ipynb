{
 "cells": [
  {
   "cell_type": "markdown",
   "id": "3c9b53c2",
   "metadata": {},
   "source": [
    "# Find the Squares from the given List"
   ]
  },
  {
   "cell_type": "markdown",
   "id": "9953056b",
   "metadata": {},
   "source": [
    "Write a Python program to square the elements of a list using map() function.\n",
    "\n",
    "\n",
    "\n",
    "Sample List: [4, 5, 2, 9]\n",
    "\n",
    "Square the elements of the list:\n",
    "\n",
    "[16, 25, 4, 81]"
   ]
  },
  {
   "cell_type": "markdown",
   "id": "311a5191",
   "metadata": {},
   "source": [
    "## Method 1: using map & lambda functions"
   ]
  },
  {
   "cell_type": "code",
   "execution_count": 1,
   "id": "91ca6cd9",
   "metadata": {},
   "outputs": [
    {
     "name": "stdout",
     "output_type": "stream",
     "text": [
      "[16, 25, 4, 81]\n"
     ]
    }
   ],
   "source": [
    "# let's create a sample list\n",
    "\n",
    "sample_list = [4,5,2,9]\n",
    "\n",
    "# assigning lambda function to each element in a sample_list using map function\n",
    "\n",
    "square_list = list(map(lambda x : x**2, sample_list))\n",
    "\n",
    "# print the square list\n",
    "\n",
    "print(square_list)"
   ]
  },
  {
   "cell_type": "markdown",
   "id": "0add2c02",
   "metadata": {},
   "source": [
    "## Method 2 : using for loop"
   ]
  },
  {
   "cell_type": "code",
   "execution_count": 2,
   "id": "a82b187d",
   "metadata": {},
   "outputs": [
    {
     "name": "stdout",
     "output_type": "stream",
     "text": [
      "[16, 25, 4, 81]\n"
     ]
    }
   ],
   "source": [
    "# create a function which sqaures the numbers\n",
    "\n",
    "def sq_no(lst):\n",
    "    return [i**2 for i in lst]\n",
    "\n",
    "# let's create a sample list\n",
    "\n",
    "list2 = [4,5,2,9]\n",
    "\n",
    "# square the elements in a list using sq_no function by passing the list into the function\n",
    "print(sq_no(list2))"
   ]
  },
  {
   "cell_type": "code",
   "execution_count": null,
   "id": "575ecbbe",
   "metadata": {},
   "outputs": [],
   "source": []
  }
 ],
 "metadata": {
  "kernelspec": {
   "display_name": "Python 3 (ipykernel)",
   "language": "python",
   "name": "python3"
  },
  "language_info": {
   "codemirror_mode": {
    "name": "ipython",
    "version": 3
   },
   "file_extension": ".py",
   "mimetype": "text/x-python",
   "name": "python",
   "nbconvert_exporter": "python",
   "pygments_lexer": "ipython3",
   "version": "3.9.7"
  }
 },
 "nbformat": 4,
 "nbformat_minor": 5
}
