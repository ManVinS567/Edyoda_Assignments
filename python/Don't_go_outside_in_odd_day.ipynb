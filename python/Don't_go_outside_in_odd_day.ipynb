{
 "cells": [
  {
   "cell_type": "markdown",
   "id": "7b7cc849",
   "metadata": {},
   "source": [
    "# Don't go outside in odd day"
   ]
  },
  {
   "cell_type": "markdown",
   "id": "51c7716e",
   "metadata": {},
   "source": [
    "Write a Python program to count the number of even and odd numbers from a series of numbers.\n",
    "\n",
    "\n",
    "\n",
    "Sample numbers : numbers = (1, 2, 3, 4, 5, 6, 7, 8, 9) \n",
    "\n",
    "Expected Output :\n",
    "\n",
    "Number of even numbers : 4\n",
    "\n",
    "Number of odd numbers : 5\n",
    "\n"
   ]
  },
  {
   "cell_type": "code",
   "execution_count": 13,
   "id": "f4fb7438",
   "metadata": {},
   "outputs": [
    {
     "name": "stdout",
     "output_type": "stream",
     "text": [
      "The total numbers in tuple (1, 2, 3, 4, 5, 6, 7, 8, 9, -1) are 10\n",
      "out of 10 numbers - 1 numbers are less than or equivalent to 0 and remaining 9 are positive\n",
      "\n",
      "Number of even numbers : 4\n",
      "Number of odd numbers : 5\n"
     ]
    }
   ],
   "source": [
    "# count of even and odd numbers in a tuple\n",
    "\n",
    "# Let's create a tuple\n",
    "numbers = (1,2,3,4,5,6,7,8,9,-1)\n",
    "\n",
    "# Even no. is which is divisible by 2, hence the remainder is 0\n",
    "# The Arithmetic operator which gives us remainder is Modulus operator i.e., %\n",
    "# Let's use for loop and if condition to check whether a number is even or odd\n",
    "# first initialise the even and odd numbers count variables\n",
    "# further check whether the numbers are positive or not\n",
    "\n",
    "other_num  = 0\n",
    "even_count = 0\n",
    "odd_count = 0\n",
    "\n",
    "\n",
    "for num in numbers:\n",
    "    if num <=0:\n",
    "        other_num += 1\n",
    "    else:\n",
    "        if num % 2 == 0:\n",
    "            even_count += 1\n",
    "        else:\n",
    "            odd_count += 1\n",
    "\n",
    "print(f\"The total numbers in tuple {numbers} are {len(numbers)}\")\n",
    "print(f\"out of {len(numbers)} numbers - {other_num} numbers are less than or equivalent to 0 and remaining {len(numbers) - other_num} are positive\")\n",
    "print(f\"\\nNumber of even numbers : {even_count}\")\n",
    "print(f\"Number of odd numbers : {odd_count}\")"
   ]
  },
  {
   "cell_type": "code",
   "execution_count": null,
   "id": "e2dbd1e5",
   "metadata": {},
   "outputs": [],
   "source": []
  }
 ],
 "metadata": {
  "kernelspec": {
   "display_name": "Python 3 (ipykernel)",
   "language": "python",
   "name": "python3"
  },
  "language_info": {
   "codemirror_mode": {
    "name": "ipython",
    "version": 3
   },
   "file_extension": ".py",
   "mimetype": "text/x-python",
   "name": "python",
   "nbconvert_exporter": "python",
   "pygments_lexer": "ipython3",
   "version": "3.8.10"
  }
 },
 "nbformat": 4,
 "nbformat_minor": 5
}
