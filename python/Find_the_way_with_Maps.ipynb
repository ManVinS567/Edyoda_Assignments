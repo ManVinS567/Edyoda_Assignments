{
 "cells": [
  {
   "cell_type": "markdown",
   "id": "569c94b8",
   "metadata": {},
   "source": [
    "# Find the way with Maps"
   ]
  },
  {
   "cell_type": "markdown",
   "id": "dda8f9a5",
   "metadata": {},
   "source": [
    "Write a Python program to triple all numbers of a given list of integers. Use Python map.\n",
    "\n",
    "\n",
    "\n",
    "sample list: [1, 2, 3, 4, 5, 6, 7]\n",
    "\n",
    "\n",
    "\n",
    "Triple of list numbers:\n",
    "\n",
    "[3, 6, 9, 12, 15, 18, 21]"
   ]
  },
  {
   "cell_type": "markdown",
   "id": "29569ebd",
   "metadata": {},
   "source": [
    "## Method 1: using for loop"
   ]
  },
  {
   "cell_type": "code",
   "execution_count": 6,
   "id": "0dfa3050",
   "metadata": {},
   "outputs": [
    {
     "data": {
      "text/plain": [
       "[3, 6, 9, 12, 15, 18, 21]"
      ]
     },
     "execution_count": 6,
     "metadata": {},
     "output_type": "execute_result"
    }
   ],
   "source": [
    "# let's create a function which triples the given no\n",
    "\n",
    "def triple_the_no(lst):\n",
    "    return [i*3 for i in lst]\n",
    "    \n",
    "        \n",
    "sample_list = [1,2,3,4,5,6,7]\n",
    "\n",
    "triple_the_no(sample_list)\n"
   ]
  },
  {
   "cell_type": "markdown",
   "id": "090fddc9",
   "metadata": {},
   "source": [
    "## Method 2 : Using lambda & map"
   ]
  },
  {
   "cell_type": "code",
   "execution_count": 11,
   "id": "41d959bc",
   "metadata": {},
   "outputs": [
    {
     "name": "stdout",
     "output_type": "stream",
     "text": [
      "[3, 6, 9, 12, 15, 18, 21]\n"
     ]
    }
   ],
   "source": [
    "# using lambda function to triple all elements in a list\n",
    "\n",
    "sample_list2 = [1,2,3,4,5,6,7]\n",
    "\n",
    "# assign lambda function to all the elements in list using map function\n",
    "triple_list = list(map(lambda x: x*3, sample_list2))\n",
    "\n",
    "# print the result\n",
    "print(triple_list)"
   ]
  },
  {
   "cell_type": "code",
   "execution_count": null,
   "id": "02beed92",
   "metadata": {},
   "outputs": [],
   "source": []
  }
 ],
 "metadata": {
  "kernelspec": {
   "display_name": "Python 3 (ipykernel)",
   "language": "python",
   "name": "python3"
  },
  "language_info": {
   "codemirror_mode": {
    "name": "ipython",
    "version": 3
   },
   "file_extension": ".py",
   "mimetype": "text/x-python",
   "name": "python",
   "nbconvert_exporter": "python",
   "pygments_lexer": "ipython3",
   "version": "3.9.7"
  }
 },
 "nbformat": 4,
 "nbformat_minor": 5
}
