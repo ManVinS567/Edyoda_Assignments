{
 "cells": [
  {
   "cell_type": "markdown",
   "id": "c47d14af",
   "metadata": {},
   "source": [
    "# Find the way with Maps"
   ]
  },
  {
   "cell_type": "markdown",
   "id": "cc294035",
   "metadata": {},
   "source": [
    "Write a Python program to triple all numbers of a given list of integers. Use Python map.\n",
    "\n",
    "\n",
    "\n",
    "sample list: [1, 2, 3, 4, 5, 6, 7]\n",
    "\n",
    "\n",
    "\n",
    "Triple of list numbers:\n",
    "\n",
    "[3, 6, 9, 12, 15, 18, 21]"
   ]
  },
  {
   "cell_type": "markdown",
   "id": "c410bccf",
   "metadata": {},
   "source": [
    "## Method 1: using for loop"
   ]
  },
  {
   "cell_type": "code",
   "execution_count": 6,
   "id": "07e8eaf3",
   "metadata": {},
   "outputs": [
    {
     "data": {
      "text/plain": [
       "[3, 6, 9, 12, 15, 18, 21]"
      ]
     },
     "execution_count": 6,
     "metadata": {},
     "output_type": "execute_result"
    }
   ],
   "source": [
    "# let's create a function which triples the given no\n",
    "\n",
    "def triple_the_no(lst):\n",
    "    return [i*3 for i in lst]\n",
    "    \n",
    "        \n",
    "sample_list = [1,2,3,4,5,6,7]\n",
    "\n",
    "triple_the_no(sample_list)\n"
   ]
  },
  {
   "cell_type": "markdown",
   "id": "0558849b",
   "metadata": {},
   "source": [
    "## Method 2 : Using lambda & map"
   ]
  },
  {
   "cell_type": "code",
   "execution_count": 9,
   "id": "3328fc8e",
   "metadata": {},
   "outputs": [
    {
     "data": {
      "text/plain": [
       "[3, 6, 9, 12, 15, 18, 21]"
      ]
     },
     "execution_count": 9,
     "metadata": {},
     "output_type": "execute_result"
    }
   ],
   "source": [
    "# using lambda function to triple all elements in a list\n",
    "\n",
    "sample_list2 = [1,2,3,4,5,6,7]\n",
    "\n",
    "triple_list = list(map(lambda x: x*3, sample_list2))\n",
    "\n",
    "triple_list"
   ]
  },
  {
   "cell_type": "code",
   "execution_count": null,
   "id": "56186c0f",
   "metadata": {},
   "outputs": [],
   "source": []
  }
 ],
 "metadata": {
  "kernelspec": {
   "display_name": "Python 3 (ipykernel)",
   "language": "python",
   "name": "python3"
  },
  "language_info": {
   "codemirror_mode": {
    "name": "ipython",
    "version": 3
   },
   "file_extension": ".py",
   "mimetype": "text/x-python",
   "name": "python",
   "nbconvert_exporter": "python",
   "pygments_lexer": "ipython3",
   "version": "3.9.7"
  }
 },
 "nbformat": 4,
 "nbformat_minor": 5
}
